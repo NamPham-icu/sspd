{
 "cells": [
  {
   "cell_type": "code",
   "execution_count": null,
   "id": "559ca178-41e4-4894-976c-22f598082fc6",
   "metadata": {},
   "outputs": [],
   "source": [
    "import os\n",
    "import Pandas\n",
    "import numpy as np\n",
    "import pyvisa\n",
    "import time\n",
    "import datetime\n",
    "from matplotlib import pyplot as plt"
   ]
  },
  {
   "cell_type": "code",
   "execution_count": null,
   "id": "3c9b58bc-184b-4cb4-9443-16f9b9606426",
   "metadata": {},
   "outputs": [],
   "source": [
    "#--- Record date and time ---\n",
    "dt_now = datetime.datetime.now()\n",
    "today = dt_now.strftime(\"%Y%m%d-%H:%M:%S\")"
   ]
  },
  {
   "cell_type": "code",
   "execution_count": null,
   "id": "6d65b924-9049-4bdd-ab9e-220492c81bc8",
   "metadata": {},
   "outputs": [],
   "source": [
    "#--- Create Output Directory ---\n",
    "dir_path = ''\n",
    "dir_name = today + '-testB5-NamPham'\n",
    "dir_path_name = os.path.join(dir_path, dir_name)\n",
    "os.mkdir(dir_path_name, exist_ok=True)"
   ]
  },
  {
   "cell_type": "code",
   "execution_count": null,
   "id": "61e36eb6-9c69-4d8c-9c76-aac5d315c46b",
   "metadata": {},
   "outputs": [],
   "source": [
    "#--- Obtaining the VISA addresses of connected devices ---\n",
    "rm = pyvisa.ResourceManager()\n",
    "print(f\"VISA addresses of connected devices are as below:\\n{rm.list_resources()}\")"
   ]
  },
  {
   "cell_type": "code",
   "execution_count": null,
   "id": "ededd154-ccf9-4deb-9b3a-5a6e00eaa983",
   "metadata": {},
   "outputs": [],
   "source": [
    "#--- Defining device name (COPY VISA ADDRESSES & EDIT) ---\n",
    "scope = rm.open_resource(, timeout=10000)\n",
    "afg = rm.open_resource(, timeout=1000)"
   ]
  },
  {
   "cell_type": "code",
   "execution_count": null,
   "id": "9f027c57-fa98-4ea6-b683-534d402dd94c",
   "metadata": {},
   "outputs": [],
   "source": [
    "#--- Confirm oscilloscope ID ---\n",
    "scope_id = scope.query(\"*IDN?\")\n",
    "afg_id = afg.query(\"*IDN?\")\n",
    "print(f\"scope ID = {scope_id}\")\n",
    "print(f\"function generator ID = {afg_id}\")"
   ]
  },
  {
   "cell_type": "code",
   "execution_count": null,
   "id": "8175cf18-5efa-4157-9018-673af8e203c5",
   "metadata": {},
   "outputs": [],
   "source": [
    "#--- Asking for Input ---\n",
    "freq = float(input(\"Frequency (MHz):\")) # frequency\n",
    "\n",
    "while True:                             # pulse width\n",
    "    pulse_width = int(input(\"Pulse Width (%):\"))\n",
    "    if pulse_width < 10 or pulse_width > 90:\n",
    "        print(\"Width must be between 10 percent and 90 percent\")\n",
    "    else:\n",
    "        break\n",
    "\n",
    "while True:                             # amplitude\n",
    "    amp = float(input(\"Amplitude (VPP):\"))\n",
    "    if amp < 0.8 or amp > 1.3:\n",
    "        print(\"Amplitude not in effective range (0.8V to 1.3V)\")\n",
    "    else:\n",
    "        break\n",
    "\n",
    "offset = float(input(\"Offset (V):\"))    # offset\n",
    "\n",
    "while True:                             # phase\n",
    "    phase = float(input(\"Offset (V):\"))\n",
    "    if phase < -180 or phase > 180:\n",
    "        print(\"Phase must be bewteen -180 and 180\")\n",
    "    else:\n",
    "        break"
   ]
  },
  {
   "cell_type": "code",
   "execution_count": null,
   "id": "85f40390-c6dc-4c54-94f6-256cfddeb29f",
   "metadata": {},
   "outputs": [],
   "source": [
    "#--- Function Generator Output Setup ---\n",
    "afg.write(\"FUNC:SHAP PULS\")\n",
    "afg.write(f\"FREQ {freq}E6\")\n",
    "afg.write(f\"PULS:{pulse_width}\")\n",
    "afg.write(f\"VOLT {amp}\")\n",
    "afg.write(f\"VOLT:OFFS {offset}\")\n",
    "afg.write(f\"PHAS {phase}\")\n",
    "afg.write(\"OUTP:IMP 50\")"
   ]
  },
  {
   "cell_type": "code",
   "execution_count": null,
   "id": "67ec79d7-770f-4b33-9739-c430da8078f8",
   "metadata": {},
   "outputs": [],
   "source": [
    "#--- Oscilloscope Setup ---\n",
    "scope.write(\":WAV:SOUR CHAN1\")\n",
    "scope.write(\":WAV:MODE NORM\")\n",
    "scope.write(\":WAV:FORM ASCii\")\n",
    "scope.write(f\":TIMEBASE:SCALE {5e-6/freq}\")\n",
    "scope.write(\":TRIG:MODE EDGE\")\n",
    "scope.write(\":TRIG:EDGE:SOUR CHAN1\")\n",
    "scope.write(\":TRIG:EDGE:SLOPE POSITIVE\")\n",
    "scope.write(f\":TRIG:LEVEL {offset}\")\n",
    "scope_dt = float(scope.query(\":WAV:XINC?\"))\n",
    "scope_dd = float(scope.query(\":WAV:YINC?\"))\n",
    "scope_ot = float(scope.query(\":WAV:XOR?\"))\n",
    "scope_points = int(scope.query(\":WAV:POINTs?\"))"
   ]
  },
  {
   "cell_type": "code",
   "execution_count": null,
   "id": "c5e490e7-781a-4433-b2cb-44d6df441c16",
   "metadata": {},
   "outputs": [],
   "source": [
    "#--- Measurement and Saving ---\n",
    "afg.write(\"OUTP ON\")\n",
    "data = scope.query(\":WAV:DATA?\")\n",
    "time.sleep(1.0)\n",
    "afg.write(\"OUTP OFF\")\n",
    "\n",
    "voltage = np.array([float(v) for v in data.split(',')])\n",
    "time = scope_dt * np.arange(scope_points)"
   ]
  },
  {
   "cell_type": "code",
   "execution_count": null,
   "id": "73e9e7a2-a7a2-4ebb-8b3b-bcf2ce9f2be4",
   "metadata": {},
   "outputs": [],
   "source": [
    "#--- Saving raw data ---\n",
    "np.savetxt(f\"{dir_path_name}/waveform_data.csv\", np.column_stack((time, voltage)),\n",
    "           delimiter=\",\", header=\"Time(s), Voltage(V)\", comments='')"
   ]
  },
  {
   "cell_type": "code",
   "execution_count": null,
   "id": "08f29de8-7c01-4f65-856d-fef2e6483c3b",
   "metadata": {},
   "outputs": [],
   "source": [
    "#--- Measurement and Saving ---\n",
    "afg.write(\"OUTP ON\")\n",
    "data = scope.query(\":WAV:DATA?\")\n",
    "time.sleep(1.0)\n",
    "afg.write(\"OUTP OFF\")"
   ]
  },
  {
   "cell_type": "code",
   "execution_count": null,
   "id": "7fd6afb7-f7d2-43fe-8bcf-9334bfb93874",
   "metadata": {},
   "outputs": [],
   "source": [
    "#--- Visualization ---\n",
    "fig = plt.figure(figsize=(10,4))\n",
    "ax = fig.add_subplot(111)\n",
    "\n",
    "ax.plot(time/1e6 ,voltage, drawstyle='steps-mid')\n",
    "ax.set_xlabel(\"Time (μs)\")\n",
    "ax.set_ylabel(\"Voltage (V)\")\n",
    "ax.set_title(\"Waveform\")\n",
    "ax.grid(True)\n",
    "\n",
    "plt.savefig(f\"{dir_path_name}/waveform_plt.png\")\n",
    "plt.close()"
   ]
  },
  {
   "cell_type": "code",
   "execution_count": null,
   "id": "2e4baec4-665f-408c-a3ad-ac8e21c784b3",
   "metadata": {},
   "outputs": [],
   "source": [
    "#--- Saving setup parameters ---\n",
    "metadata = {\n",
    "    \"Function Generator\": {\n",
    "        \"ID\": afg_id,\n",
    "        \"Waveform\": \"Pulse\",\n",
    "        \"Frequency\": f\"{freq} MHz\",\n",
    "        \"Amplitude\": f\"{amp} Vpp\",\n",
    "        \"Offset\": f\"{offset} V\",\n",
    "        \"Duty\": f\"{pulse_width}%\",\n",
    "        \"Phase\": f\"{phase} deg\",\n",
    "        \"Impedance\": \"50 Ω\"\n",
    "    },\n",
    "    \"Oscilloscope\": {\n",
    "        \"ID\": scope_id,\n",
    "        \"Timebase Scale\": f\"{5000/freq} ns/div\",\n",
    "        \"Time Resolution (XINC)\": f\"{scope_dt} s\",\n",
    "        \"Time Offset (XOR)\": f\"{scope_ot} s\",\n",
    "        \"Points\": scope_points\n",
    "    }\n",
    "}\n",
    "with open(f\"{dir_path_name}/metadata.txt\", \"w\") as f:\n",
    "    for section, entries in metadata.items():\n",
    "        f.write(f\"[{section}]\\n\")\n",
    "        for key, val in entries.items():\n",
    "            f.write(f\"{key}: {val}\\n\")\n",
    "        f.write(\"\\n\")"
   ]
  }
 ],
 "metadata": {
  "kernelspec": {
   "display_name": "Python 3 (ipykernel)",
   "language": "python",
   "name": "python3"
  },
  "language_info": {
   "codemirror_mode": {
    "name": "ipython",
    "version": 3
   },
   "file_extension": ".py",
   "mimetype": "text/x-python",
   "name": "python",
   "nbconvert_exporter": "python",
   "pygments_lexer": "ipython3",
   "version": "3.12.7"
  }
 },
 "nbformat": 4,
 "nbformat_minor": 5
}
