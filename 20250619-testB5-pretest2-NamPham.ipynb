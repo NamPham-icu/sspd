{
 "cells": [
  {
   "cell_type": "markdown",
   "id": "97a5ec51-0c15-4ac4-a138-85d1ccec813a",
   "metadata": {},
   "source": [
    "Note: The 202506019-test1-NamPham is in Google Colab."
   ]
  },
  {
   "cell_type": "code",
   "execution_count": 8,
   "id": "79c1cb5d-0cb2-4591-807a-02c3645dfc20",
   "metadata": {},
   "outputs": [],
   "source": [
    "import os\n",
    "import datetime\n",
    "import ipywidgets as iw\n",
    "from IPython.display import display"
   ]
  },
  {
   "cell_type": "code",
   "execution_count": 6,
   "id": "e6a4f01b-38b4-4072-bcf7-46d495c390ab",
   "metadata": {},
   "outputs": [
    {
     "data": {
      "application/vnd.jupyter.widget-view+json": {
       "model_id": "9291fa64431a409493e6241b72cd832e",
       "version_major": 2,
       "version_minor": 0
      },
      "text/plain": [
       "FloatSlider(value=10.0, description='Frequency (MHz)', max=15.0, min=5.0, style=SliderStyle(description_width=…"
      ]
     },
     "metadata": {},
     "output_type": "display_data"
    },
    {
     "data": {
      "application/vnd.jupyter.widget-view+json": {
       "model_id": "4d680c3e33bf4edab019bd661bed8374",
       "version_major": 2,
       "version_minor": 0
      },
      "text/plain": [
       "FloatSlider(value=50.0, description='Pulse Width (%)', max=90.0, min=10.0, style=SliderStyle(description_width…"
      ]
     },
     "metadata": {},
     "output_type": "display_data"
    },
    {
     "data": {
      "application/vnd.jupyter.widget-view+json": {
       "model_id": "766e3804a0f547fe93593bfa2cfe109f",
       "version_major": 2,
       "version_minor": 0
      },
      "text/plain": [
       "FloatSlider(value=1.0, description='Amplitude (VPP)', max=1.3, min=0.8, step=0.01, style=SliderStyle(descripti…"
      ]
     },
     "metadata": {},
     "output_type": "display_data"
    },
    {
     "data": {
      "application/vnd.jupyter.widget-view+json": {
       "model_id": "2bf2eba1040f4bc1aba3b78e07b0308e",
       "version_major": 2,
       "version_minor": 0
      },
      "text/plain": [
       "FloatSlider(value=0.04, description='Offset (V)', max=1.0, step=0.01, style=SliderStyle(description_width='ini…"
      ]
     },
     "metadata": {},
     "output_type": "display_data"
    },
    {
     "data": {
      "application/vnd.jupyter.widget-view+json": {
       "model_id": "82aeffd6b24f40509ef331acbe90078f",
       "version_major": 2,
       "version_minor": 0
      },
      "text/plain": [
       "IntSlider(value=0, description='Phase (rad)', max=90, style=SliderStyle(description_width='initial'))"
      ]
     },
     "metadata": {},
     "output_type": "display_data"
    }
   ],
   "source": [
    "#--- Asking for Input ---\n",
    "Freq = iw.FloatSlider(\n",
    "    min = 5.0,\n",
    "    max = 15.0,\n",
    "    step = 0.1,\n",
    "    value = 10.0,\n",
    "    description = \"Frequency (MHz)\",\n",
    "    style = {'description_width': 'initial'}\n",
    ")\n",
    "\n",
    "Pulse_width = iw.FloatSlider(\n",
    "    min = 10,\n",
    "    max = 90,\n",
    "    step = 0.1,\n",
    "    value = 50.0,\n",
    "    description = \"Pulse Width (%)\",\n",
    "    style = {'description_width': 'initial'}\n",
    ")\n",
    "\n",
    "Amp = iw.FloatSlider(\n",
    "    min = 0.80,\n",
    "    max = 1.30,\n",
    "    step = 0.01,\n",
    "    value = 1.00,\n",
    "    description = \"Amplitude (VPP)\",\n",
    "    style = {'description_width': 'initial'}\n",
    ")\n",
    "\n",
    "Offset = iw.FloatSlider(\n",
    "    min = 0.00,\n",
    "    max = 1.00,\n",
    "    step = 0.01,\n",
    "    value = 0.04,\n",
    "    description = \"Offset (V)\",\n",
    "    style = {'description_width': 'initial'}\n",
    ")\n",
    "\n",
    "Phase = iw.IntSlider(\n",
    "    min = 0,\n",
    "    max = 90,\n",
    "    step = 1,\n",
    "    value = 0,\n",
    "    description = \"Phase (rad)\",\n",
    "    style = {'description_width': 'initial'}\n",
    ")\n",
    "\n",
    "display(Freq, Pulse_width, Amp, Offset, Phase)"
   ]
  },
  {
   "cell_type": "code",
   "execution_count": 7,
   "id": "d86ab587-fd6f-4550-bdc8-c70f01bed2b2",
   "metadata": {},
   "outputs": [
    {
     "name": "stdout",
     "output_type": "stream",
     "text": [
      "Frequency: 7.3 MHz\n",
      "Pulse Width: 69.6 %\n",
      "Amplitude: 1.04 VPP\n",
      "Offset: 0.7 V\n",
      "Phase: 21 rad\n"
     ]
    }
   ],
   "source": [
    "#--- Confirm Inputs ---\n",
    "freq = Freq.value\n",
    "pulse_width = Pulse_width.value\n",
    "amp = Amp.value\n",
    "offset = Offset.value\n",
    "phase = Phase.value\n",
    "\n",
    "print(f\"Frequency: {freq} MHz\")\n",
    "print(f\"Pulse Width: {pulse_width} %\")\n",
    "print(f\"Amplitude: {amp} VPP\")\n",
    "print(f\"Offset: {offset} V\")\n",
    "print(f\"Phase: {phase} rad\")"
   ]
  },
  {
   "cell_type": "code",
   "execution_count": 10,
   "id": "8632ea35-f9ca-40ef-8397-cb0cadbfe7d5",
   "metadata": {},
   "outputs": [],
   "source": [
    "#--- Record date and time ---\n",
    "dt_now = datetime.datetime.now()\n",
    "today = dt_now.strftime(\"%Y%m%d-%H:%M:%S\")"
   ]
  },
  {
   "cell_type": "code",
   "execution_count": 12,
   "id": "fb15d7d6-62b9-4945-8224-5cde2dd7120e",
   "metadata": {},
   "outputs": [],
   "source": [
    "#--- Create Output Directory ---\n",
    "dir_path = ''\n",
    "dir_name = today + '-testB5-NamPham'\n",
    "dir_path_name = os.path.join(dir_path, dir_name)\n",
    "os.mkdir(dir_path_name)"
   ]
  },
  {
   "cell_type": "code",
   "execution_count": 13,
   "id": "4157999a-5d9d-4ab4-b27a-da6ed66e333b",
   "metadata": {},
   "outputs": [],
   "source": [
    "metadata = {\n",
    "    \"Function Generator\": {\n",
    "        \"Waveform\": \"Pulse\",\n",
    "        \"Frequency\": f\"{freq} MHz\",\n",
    "        \"Amplitude\": f\"{amp} Vpp\",\n",
    "        \"Offset\": f\"{offset} V\",\n",
    "        \"Duty\": f\"{pulse_width}%\",\n",
    "        \"Phase\": f\"{phase} deg\",\n",
    "        \"Impedance\": \"50 Ω\"\n",
    "    },\n",
    "    \"Oscilloscope\": {\n",
    "        \"ID\": 1111111,\n",
    "        \"Timebase Scale\": f\"{5000/freq} ns/div\",\n",
    "        \"Time Resolution (XINC)\": f\"{100} s\",\n",
    "        \"Time Offset (XOR)\": f\"{100} s\",\n",
    "        \"Points\": 1000\n",
    "    }\n",
    "}\n",
    "with open(f\"{dir_path_name}/metadata.txt\", \"w\") as f:\n",
    "    for section, entries in metadata.items():\n",
    "        f.write(f\"[{section}]\\n\")\n",
    "        for key, val in entries.items():\n",
    "            f.write(f\"{key}: {val}\\n\")\n",
    "        f.write(\"\\n\")"
   ]
  },
  {
   "cell_type": "code",
   "execution_count": null,
   "id": "902c5b64-f92a-41db-9176-c1eeda85af28",
   "metadata": {},
   "outputs": [],
   "source": []
  }
 ],
 "metadata": {
  "kernelspec": {
   "display_name": "Python 3 (ipykernel)",
   "language": "python",
   "name": "python3"
  },
  "language_info": {
   "codemirror_mode": {
    "name": "ipython",
    "version": 3
   },
   "file_extension": ".py",
   "mimetype": "text/x-python",
   "name": "python",
   "nbconvert_exporter": "python",
   "pygments_lexer": "ipython3",
   "version": "3.12.7"
  }
 },
 "nbformat": 4,
 "nbformat_minor": 5
}
