{
 "cells": [
  {
   "cell_type": "code",
   "execution_count": 1,
   "id": "7946efee-d660-4ddb-8b3f-4644b0f971f7",
   "metadata": {},
   "outputs": [],
   "source": [
    "import os\n",
    "import pandas\n",
    "import numpy as np\n",
    "import pyvisa\n",
    "import time\n",
    "import datetime\n",
    "import ipywidgets as iw\n",
    "from IPython.display import display\n",
    "from matplotlib import pyplot as plt"
   ]
  },
  {
   "cell_type": "code",
   "execution_count": 2,
   "id": "aa1f07b7-b125-4c50-8f6c-be1dd8a48965",
   "metadata": {},
   "outputs": [
    {
     "name": "stdout",
     "output_type": "stream",
     "text": [
      "VISA addresses of connected devices are as below:\n",
      "('USB0::0x0957::0x179A::MY62160598::INSTR', 'USB0::0x0699::0x034C::C010132::INSTR', 'ASRL1::INSTR')\n"
     ]
    }
   ],
   "source": [
    "#--- Obtaining the VISA addresses of connected devices ---\n",
    "rm = pyvisa.ResourceManager()\n",
    "print(f\"VISA addresses of connected devices are as below:\\n{rm.list_resources()}\")"
   ]
  },
  {
   "cell_type": "code",
   "execution_count": 3,
   "id": "3df96721-e12b-48ae-b404-d0326c21f787",
   "metadata": {},
   "outputs": [
    {
     "name": "stdout",
     "output_type": "stream",
     "text": [
      "Visa Library at C:\\WINDOWS\\system32\\visa32.dll\n"
     ]
    }
   ],
   "source": [
    "print(rm.visalib)"
   ]
  },
  {
   "cell_type": "code",
   "execution_count": 35,
   "id": "140bee87-dabb-449b-bf42-8ff9933401e4",
   "metadata": {},
   "outputs": [],
   "source": [
    "#--- Defining device name (COPY VISA ADDRESSES & EDIT) ---\n",
    "scope = rm.open_resource('USB0::0x0957::0x179A::MY62160598::INSTR', timeout=1000)\n",
    "afg = rm.open_resource('USB0::0x0699::0x034C::C010132::INSTR', timeout=1000)"
   ]
  },
  {
   "cell_type": "code",
   "execution_count": 36,
   "id": "bb991354-d352-4f4e-a6bf-94eff7f37903",
   "metadata": {},
   "outputs": [
    {
     "name": "stdout",
     "output_type": "stream",
     "text": [
      "scope ID = AGILENT TECHNOLOGIES,DSO-X 2004A,MY62160598,02.65.2021030741\n",
      "\n",
      "function generator ID = TEKTRONIX,AFG3102C,C010132,SCPI:99.0 FV:1.0.2\n",
      "\n"
     ]
    }
   ],
   "source": [
    "#--- Confirm oscilloscope ID ---\n",
    "scope_id = scope.query(\"*IDN?\")\n",
    "afg_id = afg.query(\"*IDN?\")\n",
    "print(f\"scope ID = {scope_id}\")\n",
    "print(f\"function generator ID = {afg_id}\")"
   ]
  },
  {
   "cell_type": "code",
   "execution_count": 25,
   "id": "635485ed-380d-4d50-b822-7e442c7b05b2",
   "metadata": {},
   "outputs": [
    {
     "data": {
      "text/plain": [
       "17"
      ]
     },
     "execution_count": 25,
     "metadata": {},
     "output_type": "execute_result"
    }
   ],
   "source": [
    "scope.write(\":WAV:MODE NORM\")\n",
    "scope.write(\":WAV:FORM ASCii\")"
   ]
  },
  {
   "cell_type": "code",
   "execution_count": 26,
   "id": "1a8b3805-ff12-41a6-ba6f-7eceb8eb9f62",
   "metadata": {},
   "outputs": [
    {
     "data": {
      "text/plain": [
       "39"
      ]
     },
     "execution_count": 26,
     "metadata": {},
     "output_type": "execute_result"
    }
   ],
   "source": [
    "freq = 10 #MHz\n",
    "scope.write(f\":TIMEBASE:SCALE {5e-6/freq}\")"
   ]
  },
  {
   "cell_type": "code",
   "execution_count": 27,
   "id": "7b80b61d-d537-4e29-ab33-2f6d68dc2252",
   "metadata": {},
   "outputs": [
    {
     "data": {
      "text/plain": [
       "17"
      ]
     },
     "execution_count": 27,
     "metadata": {},
     "output_type": "execute_result"
    }
   ],
   "source": [
    "offset = 0.4 #V\n",
    "scope.write(\":TRIG:MODE EDGE\")\n",
    "scope.write(\":TRIG:EDGE:SOUR CHAN1\")\n",
    "scope.write(\":TRIG:EDGE:SLOPE POSITIVE\")\n",
    "scope.write(f\":TRIG:LEVEL {offset}\")"
   ]
  },
  {
   "cell_type": "code",
   "execution_count": 29,
   "id": "c4deb7ef-97a7-441e-9d2c-250c26c45639",
   "metadata": {},
   "outputs": [
    {
     "name": "stdout",
     "output_type": "stream",
     "text": [
      "1e-09\n",
      "3.140703e-05\n",
      "-2.5e-06\n",
      "5000\n"
     ]
    }
   ],
   "source": [
    "scope_dt = float(scope.query(\":WAV:XINC?\"))\n",
    "scope_dd = float(scope.query(\":WAV:YINC?\"))\n",
    "scope_ot = float(scope.query(\":WAV:XOR?\"))\n",
    "scope_points = int(scope.query(\":WAV:POINTs?\"))\n",
    "\n",
    "print(scope_dt)\n",
    "print(scope_dd)\n",
    "print(scope_ot)\n",
    "print(scope_points)"
   ]
  },
  {
   "cell_type": "code",
   "execution_count": 41,
   "id": "38babf4d-9551-4db6-8c2e-cf7399da9b35",
   "metadata": {},
   "outputs": [
    {
     "data": {
      "text/plain": [
       "13"
      ]
     },
     "execution_count": 41,
     "metadata": {},
     "output_type": "execute_result"
    }
   ],
   "source": [
    "pulse_width = 30\n",
    "amp = 3.0\n",
    "phase = 45\n",
    "#--- Function Generator Output Setup ---\n",
    "afg.write(\"FUNC:SHAP PULS\")\n",
    "afg.write(f\"FREQ {freq}E6\")\n",
    "afg.write(f\"PULS:{pulse_width}\")\n",
    "afg.write(f\"VOLT {amp}\")\n",
    "afg.write(f\"VOLT:OFFS {offset}\")\n",
    "afg.write(f\"PULSE: DELAY {phase}\")\n",
    "afg.write(\"OUTP:IMP 50\")"
   ]
  },
  {
   "cell_type": "code",
   "execution_count": 60,
   "id": "01d86194-c3e4-43f0-b4d9-91f8078ce0ad",
   "metadata": {},
   "outputs": [
    {
     "data": {
      "text/plain": [
       "9"
      ]
     },
     "execution_count": 60,
     "metadata": {},
     "output_type": "execute_result"
    }
   ],
   "source": [
    "afg.write(f\"FREQ 5E6\")\n",
    "afg.write(\"OUTP ON\")"
   ]
  },
  {
   "cell_type": "code",
   "execution_count": 61,
   "id": "ea430c77-3ce5-40cf-aa8d-7a92d05771ac",
   "metadata": {},
   "outputs": [
    {
     "data": {
      "text/plain": [
       "10"
      ]
     },
     "execution_count": 61,
     "metadata": {},
     "output_type": "execute_result"
    }
   ],
   "source": [
    "afg.write(\"OUTP OFF\")"
   ]
  },
  {
   "cell_type": "code",
   "execution_count": 59,
   "id": "c58e07a9-8cc1-467d-b5fb-6fe058f26c4f",
   "metadata": {},
   "outputs": [
    {
     "data": {
      "text/plain": [
       "13"
      ]
     },
     "execution_count": 59,
     "metadata": {},
     "output_type": "execute_result"
    }
   ],
   "source": [
    "afg.write(\"FUNC:SHAP PULS\")\n",
    "afg.write(f\"FREQ {freq}E6\")\n",
    "afg.write(f\"PULS:{pulse_width}\")\n",
    "afg.write(f\"VOLT {amp}\")\n",
    "afg.write(f\"VOLT:OFFS {offset}\")\n",
    "afg.write(f\"PULSE: DELAY {phase}\")\n",
    "afg.write(\"OUTP:IMP 50\")"
   ]
  },
  {
   "cell_type": "code",
   "execution_count": 51,
   "id": "fa181b45-eca9-43dd-94e8-84664f69366d",
   "metadata": {},
   "outputs": [
    {
     "data": {
      "text/plain": [
       "18"
      ]
     },
     "execution_count": 51,
     "metadata": {},
     "output_type": "execute_result"
    }
   ],
   "source": [
    "afg.write(\"SOUR2: FUNC PULS\")"
   ]
  },
  {
   "cell_type": "code",
   "execution_count": null,
   "id": "aa117341-2d0e-4358-899d-56bfeb932922",
   "metadata": {},
   "outputs": [],
   "source": []
  }
 ],
 "metadata": {
  "kernelspec": {
   "display_name": "Python 3 (ipykernel)",
   "language": "python",
   "name": "python3"
  },
  "language_info": {
   "codemirror_mode": {
    "name": "ipython",
    "version": 3
   },
   "file_extension": ".py",
   "mimetype": "text/x-python",
   "name": "python",
   "nbconvert_exporter": "python",
   "pygments_lexer": "ipython3",
   "version": "3.13.5"
  }
 },
 "nbformat": 4,
 "nbformat_minor": 5
}
